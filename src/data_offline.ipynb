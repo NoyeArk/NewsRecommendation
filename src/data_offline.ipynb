{
 "cells": [
  {
   "cell_type": "code",
   "id": "initial_id",
   "metadata": {
    "collapsed": true,
    "ExecuteTime": {
     "end_time": "2024-10-20T07:56:18.094517Z",
     "start_time": "2024-10-20T07:56:18.081982Z"
    }
   },
   "source": [
    "import os\n",
    "import pandas as pd\n",
    "from tqdm import tqdm\n",
    "from random import sample  # 随机采样"
   ],
   "outputs": [],
   "execution_count": 25
  },
  {
   "metadata": {
    "ExecuteTime": {
     "end_time": "2024-10-20T07:42:24.073194Z",
     "start_time": "2024-10-20T07:42:22.879457Z"
    }
   },
   "cell_type": "code",
   "source": [
    "# 读取数据集\n",
    "df_train_click = pd.read_csv('../dataset/train_click_log.csv')\n",
    "df_test_click = pd.read_csv('../dataset/testA_click_log.csv')\n",
    "print(f'训练集样本数：{len(df_train_click)}   测试集样本数：{len(df_test_click)}')"
   ],
   "id": "b34de4a003574171",
   "outputs": [
    {
     "name": "stdout",
     "output_type": "stream",
     "text": [
      "训练集样本数：1112623   测试集样本数：518010\n"
     ]
    }
   ],
   "execution_count": 5
  },
  {
   "metadata": {
    "ExecuteTime": {
     "end_time": "2024-10-20T07:44:25.268339Z",
     "start_time": "2024-10-20T07:44:25.150799Z"
    }
   },
   "cell_type": "code",
   "source": [
    "# 随机采样出一部分数据\n",
    "train_users = df_train_click['user_id'].values.tolist()\n",
    "val_users = (sample(train_users, 50000))\n",
    "len(train_users), len(val_users)"
   ],
   "id": "d4b2867097e56ac6",
   "outputs": [
    {
     "data": {
      "text/plain": [
       "(1112623, 50000)"
      ]
     },
     "execution_count": 17,
     "metadata": {},
     "output_type": "execute_result"
    }
   ],
   "execution_count": 17
  },
  {
   "metadata": {
    "ExecuteTime": {
     "end_time": "2024-10-20T07:56:00.138459Z",
     "start_time": "2024-10-20T07:50:13.657653Z"
    }
   },
   "cell_type": "code",
   "source": [
    "# 训练集用户 抽出行为数据最后一条作为线下验证集\n",
    "click_list = valid_query_list = []\n",
    "groups = df_train_click.groupby(['user_id'])\n",
    "for user_id, g in tqdm(groups):\n",
    "    if user_id in val_users:\n",
    "        valid_query_list.append(g.tail(1)[['user_id', 'click_article_id']])\n",
    "        click_list.append(g.head(g.shape[0] - 1))\n",
    "    else:\n",
    "        click_list.append(g)"
   ],
   "id": "4124e1ac441baf16",
   "outputs": [
    {
     "name": "stderr",
     "output_type": "stream",
     "text": [
      "100%|██████████| 200000/200000 [05:43<00:00, 582.75it/s]\n"
     ]
    }
   ],
   "execution_count": 21
  },
  {
   "metadata": {
    "ExecuteTime": {
     "end_time": "2024-10-20T07:56:16.170636Z",
     "start_time": "2024-10-20T07:56:00.141342Z"
    }
   },
   "cell_type": "code",
   "source": [
    "df_train_click = pd.concat(click_list, sort=False)\n",
    "df_valid_query = pd.concat(valid_query_list, sort=False)"
   ],
   "id": "f3c2997b71402900",
   "outputs": [],
   "execution_count": 22
  },
  {
   "metadata": {
    "ExecuteTime": {
     "end_time": "2024-10-20T07:56:16.466265Z",
     "start_time": "2024-10-20T07:56:16.173552Z"
    }
   },
   "cell_type": "code",
   "source": [
    "# 处理测试集\n",
    "test_users = df_test_click['user_id'].unique()\n",
    "test_query_list = []\n",
    "for user in tqdm(test_users):\n",
    "    test_query_list.append([user, -1])\n",
    "\n",
    "df_test_query = pd.DataFrame(test_query_list, columns=['user_id', 'click_article_id'])"
   ],
   "id": "46d945685580ee7f",
   "outputs": [
    {
     "name": "stderr",
     "output_type": "stream",
     "text": [
      "100%|██████████| 50000/50000 [00:00<00:00, 1651808.04it/s]\n"
     ]
    }
   ],
   "execution_count": 23
  },
  {
   "metadata": {
    "ExecuteTime": {
     "end_time": "2024-10-20T07:56:18.078987Z",
     "start_time": "2024-10-20T07:56:16.470322Z"
    }
   },
   "cell_type": "code",
   "source": [
    "df_query = pd.concat([df_valid_query, df_test_query], sort=False).reset_index(drop=True)\n",
    "df_click = pd.concat([df_train_click, df_test_click], sort=False).reset_index(drop=True)\n",
    "df_click = df_click.sort_values(['user_id', 'click_timestamp']).reset_index(drop=True)"
   ],
   "id": "f8e7c4c1dc12c444",
   "outputs": [],
   "execution_count": 24
  },
  {
   "metadata": {
    "ExecuteTime": {
     "end_time": "2024-10-20T07:56:18.482188Z",
     "start_time": "2024-10-20T07:56:18.098036Z"
    }
   },
   "cell_type": "code",
   "source": [
    "# 保存数据\n",
    "os.makedirs('../data/offline', exist_ok=True)\n",
    "df_click.to_pickle('../data/offline/click.pkl')\n",
    "df_query.to_pickle('../data/offline/query.pkl')"
   ],
   "id": "767fd5340bfcb808",
   "outputs": [],
   "execution_count": 26
  }
 ],
 "metadata": {
  "kernelspec": {
   "display_name": "Python 3",
   "language": "python",
   "name": "python3"
  },
  "language_info": {
   "codemirror_mode": {
    "name": "ipython",
    "version": 2
   },
   "file_extension": ".py",
   "mimetype": "text/x-python",
   "name": "python",
   "nbconvert_exporter": "python",
   "pygments_lexer": "ipython2",
   "version": "2.7.6"
  }
 },
 "nbformat": 4,
 "nbformat_minor": 5
}
