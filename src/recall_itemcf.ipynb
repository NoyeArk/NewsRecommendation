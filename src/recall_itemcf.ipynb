{
 "cells": [
  {
   "cell_type": "code",
   "id": "initial_id",
   "metadata": {
    "collapsed": true,
    "ExecuteTime": {
     "end_time": "2024-10-23T07:02:37.990555Z",
     "start_time": "2024-10-23T07:02:35.080876Z"
    }
   },
   "source": [
    "import os\n",
    "import math\n",
    "import signal\n",
    "import pickle\n",
    "import random\n",
    "import numpy as np\n",
    "import multitasking\n",
    "import pandas as pd\n",
    "from tqdm import tqdm\n",
    "from random import shuffle\n",
    "from collections import defaultdict\n",
    "\n",
    "random.seed(2024)"
   ],
   "outputs": [],
   "execution_count": 1
  },
  {
   "metadata": {
    "ExecuteTime": {
     "end_time": "2024-10-23T07:02:38.274227Z",
     "start_time": "2024-10-23T07:02:37.990555Z"
    }
   },
   "cell_type": "code",
   "source": [
    "df_click = pd.read_pickle('../data/offline/click.pkl')\n",
    "df_query = pd.read_pickle('../data/offline/query.pkl')\n",
    "\n",
    "os.makedirs('../data/sim/offline', exist_ok=True)\n",
    "sim_pkl_file = '../data/sim/offline/itemcf_sim.pkl'"
   ],
   "id": "7f0960b5760750ca",
   "outputs": [],
   "execution_count": 2
  },
  {
   "metadata": {},
   "cell_type": "markdown",
   "source": "## 1. 计算物品相似度",
   "id": "98c1abafae21466e"
  },
  {
   "metadata": {
    "ExecuteTime": {
     "end_time": "2024-10-23T07:02:43.408143Z",
     "start_time": "2024-10-23T07:02:38.274227Z"
    }
   },
   "cell_type": "code",
   "source": [
    "# 计算出每个用户点击过的文章ID，并转换为字典\n",
    "user_item_ = df_click.groupby('user_id')['click_article_id'].agg(lambda x: list(x)).reset_index()\n",
    "user_item_dict = dict(zip(user_item_['user_id'], user_item_['click_article_id']))\n",
    "user_item_, len(user_item_dict)"
   ],
   "id": "a53619116d33816a",
   "outputs": [
    {
     "data": {
      "text/plain": [
       "(        user_id                                   click_article_id\n",
       " 0             0                                    [30760, 157507]\n",
       " 1             1                                    [289197, 63746]\n",
       " 2             2                                    [36162, 168401]\n",
       " 3             3                                     [50644, 36162]\n",
       " 4             4                                     [42567, 39894]\n",
       " ...         ...                                                ...\n",
       " 249995   249995  [300470, 16129, 160974, 182394, 198659, 272143...\n",
       " 249996   249996                                           [160974]\n",
       " 249997   249997  [183665, 181686, 123909, 74719, 124667, 124337...\n",
       " 249998   249998           [160974, 202557, 237524, 236207, 235105]\n",
       " 249999   249999  [160974, 160417, 162338, 313431, 233717, 21480...\n",
       " \n",
       " [250000 rows x 2 columns],\n",
       " 250000)"
      ]
     },
     "execution_count": 3,
     "metadata": {},
     "output_type": "execute_result"
    }
   ],
   "execution_count": 3
  },
  {
   "metadata": {
    "ExecuteTime": {
     "end_time": "2024-10-23T07:04:47.860601Z",
     "start_time": "2024-10-23T07:03:12.397552Z"
    }
   },
   "cell_type": "code",
   "source": [
    "\"\"\"\n",
    "通过遍历用户的物品列表来构建一个物品相似度字典 sim_dict，同时统计每个物品出现的次数\n",
    "\"\"\"\n",
    "item_cnt = defaultdict(int)\n",
    "sim_dict = {}\n",
    "\n",
    "# 遍历所有（用户，用户点击过的物品）\n",
    "for _, items in tqdm(user_item_dict.items()):\n",
    "    # 遍历该用户点击过的所有物品\n",
    "    for i, item in enumerate(items):\n",
    "        # 当前物品item出现次数加1\n",
    "        item_cnt[item] += 1\n",
    "        sim_dict.setdefault(item, {})\n",
    "        \n",
    "        # 再次遍历该用户点击过的所有物品\n",
    "        for j, relate_item in enumerate(items):\n",
    "            # 如果两个物品相同，则跳过\n",
    "            if item == relate_item:\n",
    "                continue\n",
    "            \n",
    "            sim_dict[item].setdefault(relate_item, 0)\n",
    "            \n",
    "            # 位置信息权重\n",
    "            loc_alpha = 1.0 if j > i else 0.7\n",
    "            loc_weight = loc_alpha * (0.9**(np.abs(j - i) - 1))\n",
    "            \n",
    "            sim_dict[item][relate_item] += loc_weight / math.log(1 + len(items))"
   ],
   "id": "37fe9ec79865f3a",
   "outputs": [
    {
     "name": "stderr",
     "output_type": "stream",
     "text": [
      "100%|██████████| 250000/250000 [01:35<00:00, 2620.29it/s]\n"
     ]
    }
   ],
   "execution_count": 4
  },
  {
   "metadata": {
    "ExecuteTime": {
     "end_time": "2024-10-22T06:49:14.098767Z",
     "start_time": "2024-10-22T06:49:08.925140Z"
    }
   },
   "cell_type": "code",
   "source": [
    "for item, relate_items in tqdm(sim_dict.items()):\n",
    "    for relate_item, cij in relate_items.items():\n",
    "        sim_dict[item][relate_item] = cij / math.sqrt(item_cnt[item] * item_cnt[relate_item])"
   ],
   "id": "506e47705b2ec0b7",
   "outputs": [
    {
     "name": "stderr",
     "output_type": "stream",
     "text": [
      "100%|██████████| 35380/35380 [00:05<00:00, 6852.44it/s] \n"
     ]
    }
   ],
   "execution_count": 5
  },
  {
   "metadata": {
    "ExecuteTime": {
     "end_time": "2024-10-23T07:07:29.530161Z",
     "start_time": "2024-10-23T07:07:29.520155Z"
    }
   },
   "cell_type": "code",
   "source": [
    "for i, j in sim_dict.items():\n",
    "    print(type(i), type(j))\n",
    "    break"
   ],
   "id": "124384534ad4f319",
   "outputs": [
    {
     "name": "stdout",
     "output_type": "stream",
     "text": [
      "<class 'int'> <class 'dict'>\n"
     ]
    }
   ],
   "execution_count": 10
  },
  {
   "metadata": {
    "ExecuteTime": {
     "end_time": "2024-10-22T06:51:17.160246Z",
     "start_time": "2024-10-22T06:50:57.206104Z"
    }
   },
   "cell_type": "code",
   "source": [
    "# 保存计算完的物品相似度\n",
    "f = open(sim_pkl_file, 'wb')\n",
    "pickle.dump(sim_dict, f)\n",
    "f.close()"
   ],
   "id": "33da4c75084bf5d4",
   "outputs": [],
   "execution_count": 7
  },
  {
   "metadata": {},
   "cell_type": "markdown",
   "source": [
    "---\n",
    "## 2. 召回\n"
   ],
   "id": "b25468595351ea15"
  },
  {
   "metadata": {
    "ExecuteTime": {
     "end_time": "2024-10-22T06:58:05.367929Z",
     "start_time": "2024-10-22T06:58:05.357922Z"
    }
   },
   "cell_type": "code",
   "source": [
    "# 设置多进程\n",
    "max_threads = multitasking.config['CPU_CORES']\n",
    "multitasking.set_max_threads(max_threads)\n",
    "multitasking.set_engine('process')\n",
    "signal.signal(signal.SIGINT, multitasking.killall)\n",
    "max_threads"
   ],
   "id": "db336492b9218acc",
   "outputs": [
    {
     "data": {
      "text/plain": [
       "16"
      ]
     },
     "execution_count": 15,
     "metadata": {},
     "output_type": "execute_result"
    }
   ],
   "execution_count": 15
  },
  {
   "metadata": {
    "ExecuteTime": {
     "end_time": "2024-10-22T07:04:18.952710Z",
     "start_time": "2024-10-22T07:04:18.685558Z"
    }
   },
   "cell_type": "code",
   "source": [
    "all_users = df_query['user_id'].unique()\n",
    "shuffle(all_users)\n",
    "total = len(all_users)\n",
    "n_len = total // max_threads\n",
    "total, n_len, df_query.values()"
   ],
   "id": "ab5c53acd98e16ec",
   "outputs": [
    {
     "ename": "TypeError",
     "evalue": "'numpy.ndarray' object is not callable",
     "output_type": "error",
     "traceback": [
      "\u001B[1;31m---------------------------------------------------------------------------\u001B[0m",
      "\u001B[1;31mTypeError\u001B[0m                                 Traceback (most recent call last)",
      "Cell \u001B[1;32mIn[21], line 5\u001B[0m\n\u001B[0;32m      3\u001B[0m total \u001B[38;5;241m=\u001B[39m \u001B[38;5;28mlen\u001B[39m(all_users)\n\u001B[0;32m      4\u001B[0m n_len \u001B[38;5;241m=\u001B[39m total \u001B[38;5;241m/\u001B[39m\u001B[38;5;241m/\u001B[39m max_threads\n\u001B[1;32m----> 5\u001B[0m total, n_len, \u001B[43mdf_query\u001B[49m\u001B[38;5;241;43m.\u001B[39;49m\u001B[43mvalues\u001B[49m\u001B[43m(\u001B[49m\u001B[43m)\u001B[49m\n",
      "\u001B[1;31mTypeError\u001B[0m: 'numpy.ndarray' object is not callable"
     ]
    }
   ],
   "execution_count": 21
  },
  {
   "metadata": {
    "ExecuteTime": {
     "end_time": "2024-10-22T07:30:09.291682Z",
     "start_time": "2024-10-22T07:30:09.273670Z"
    }
   },
   "cell_type": "code",
   "source": [
    "@multitasking.task\n",
    "def recall(df_query, item_sim, user_item_dict, worker_id) -> None:\n",
    "    \"\"\"\n",
    "    召回\n",
    "    :param df_query: \n",
    "    :param item_sim: 计算得到的物品相似度\n",
    "    :param user_item_dict: 每个用户点击过的物品列表\n",
    "    :param worker_id: 当前工作进程ID\n",
    "    :return: None\n",
    "    \"\"\"\n",
    "    data_list = []\n",
    "    for user_id, item_id in tqdm(df_query.values):\n",
    "        rank = {}\n",
    "        if user_id not in user_item_dict:\n",
    "            continue\n",
    "        \n",
    "        # 保留当前用户user_id交互过的最新的两个物品\n",
    "        interacted_items = user_item_dict[user_id]\n",
    "        interacted_items = interacted_items[::-1][:2]\n",
    "        \n",
    "        # 遍历当前用户交互过的所有物品\n",
    "        for loc, item in enumerate(interacted_items):\n",
    "            # 对和当前物品item相关的所有物品按照相似度wij从大到小进行排序，然后取出前200个物品\n",
    "            for relate_item, wij in sorted(item_sim[item].items(), key=lambda d: d[1], reverse=True)[0:200]:\n",
    "                # 仅对用户未交互过的物品进行推荐\n",
    "                if relate_item not in interacted_items:\n",
    "                    # 使用位置权重，位置越靠前，权重越高\n",
    "                    rank[relate_item] = rank.get(relate_item, 0) + wij * (0.7**loc)\n",
    "                \n",
    "        sim_items = sorted(rank.items(), key=lambda d: d[1], reverse=True)\n",
    "        item_ids = [item[0] for item in sim_items]\n",
    "        item_sim_scores = [item[i] for item in sim_items]\n",
    "        \n",
    "        df_temp = pd.DataFrame()\n",
    "        df_temp['article_id'] = item_ids\n",
    "        df_temp['sim_score'] = item_sim_scores\n",
    "        df_temp['user_id'] = user_id\n",
    "        \n",
    "        if item_id == -1:\n",
    "            df_temp['label'] = np.nan\n",
    "        else:\n",
    "            df_temp['label'] = 0\n",
    "            df_temp.loc[df_temp['article_id'] == item_id, 'label'] = 1\n",
    "            \n",
    "        df_temp = df_temp[['user_id', 'article_id', 'sim_score', 'label']]\n",
    "        df_temp['user_id'] = df_temp['user_id'].astype('int')\n",
    "        df_temp['article_id'] = df_temp['article_id'].astype('int')\n",
    "        \n",
    "        data_list.append(df_temp)\n",
    "        \n",
    "    df_data = pd.concat(data_list, sort=False)\n",
    "    os.makedirs('../data/tmp/itemcf', exist_ok=True)\n",
    "    df_data.to_pickle(f'../data/tmp/itemcf/{worker_id}.pkl')"
   ],
   "id": "5090896de69b949f",
   "outputs": [],
   "execution_count": 25
  },
  {
   "metadata": {
    "ExecuteTime": {
     "end_time": "2024-10-22T07:30:39.299132Z",
     "start_time": "2024-10-22T07:30:39.128588Z"
    }
   },
   "cell_type": "code",
   "source": [
    "# 开始召回\n",
    "for i in range(0, total, n_len):\n",
    "    part_users = all_users[i: i + n_len]\n",
    "    df_temp = df_query[df_query['user_id'].isin(part_users)]\n",
    "    recall(df_temp, sim_dict, user_item_dict, i)\n",
    "    \n",
    "multitasking.wait_for_tasks()"
   ],
   "id": "88106bc716e7579c",
   "outputs": [
    {
     "ename": "AttributeError",
     "evalue": "Can't pickle local object 'task.<locals>._run_via_pool'",
     "output_type": "error",
     "traceback": [
      "\u001B[1;31m---------------------------------------------------------------------------\u001B[0m",
      "\u001B[1;31mAttributeError\u001B[0m                            Traceback (most recent call last)",
      "Cell \u001B[1;32mIn[26], line 5\u001B[0m\n\u001B[0;32m      3\u001B[0m     part_users \u001B[38;5;241m=\u001B[39m all_users[i: i \u001B[38;5;241m+\u001B[39m n_len]\n\u001B[0;32m      4\u001B[0m     df_temp \u001B[38;5;241m=\u001B[39m df_query[df_query[\u001B[38;5;124m'\u001B[39m\u001B[38;5;124muser_id\u001B[39m\u001B[38;5;124m'\u001B[39m]\u001B[38;5;241m.\u001B[39misin(part_users)]\n\u001B[1;32m----> 5\u001B[0m     \u001B[43mrecall\u001B[49m\u001B[43m(\u001B[49m\u001B[43mdf_temp\u001B[49m\u001B[43m,\u001B[49m\u001B[43m \u001B[49m\u001B[43msim_dict\u001B[49m\u001B[43m,\u001B[49m\u001B[43m \u001B[49m\u001B[43muser_item_dict\u001B[49m\u001B[43m,\u001B[49m\u001B[43m \u001B[49m\u001B[43mi\u001B[49m\u001B[43m)\u001B[49m\n\u001B[0;32m      7\u001B[0m multitasking\u001B[38;5;241m.\u001B[39mwait_for_tasks()\n",
      "File \u001B[1;32mF:\\anaconda\\anaconda3\\envs\\DeltaZero\\lib\\site-packages\\multitasking\\__init__.py:121\u001B[0m, in \u001B[0;36mtask.<locals>.async_method\u001B[1;34m(*args, **kwargs)\u001B[0m\n\u001B[0;32m    118\u001B[0m     single \u001B[38;5;241m=\u001B[39m config[\u001B[38;5;124m\"\u001B[39m\u001B[38;5;124mPOOLS\u001B[39m\u001B[38;5;124m\"\u001B[39m][config[\u001B[38;5;124m\"\u001B[39m\u001B[38;5;124mPOOL_NAME\u001B[39m\u001B[38;5;124m\"\u001B[39m]][\u001B[38;5;124m'\u001B[39m\u001B[38;5;124mengine\u001B[39m\u001B[38;5;124m'\u001B[39m](\n\u001B[0;32m    119\u001B[0m         target\u001B[38;5;241m=\u001B[39m_run_via_pool, args\u001B[38;5;241m=\u001B[39margs, kwargs\u001B[38;5;241m=\u001B[39mkwargs)\n\u001B[0;32m    120\u001B[0m config[\u001B[38;5;124m\"\u001B[39m\u001B[38;5;124mTASKS\u001B[39m\u001B[38;5;124m\"\u001B[39m]\u001B[38;5;241m.\u001B[39mappend(single)\n\u001B[1;32m--> 121\u001B[0m \u001B[43msingle\u001B[49m\u001B[38;5;241;43m.\u001B[39;49m\u001B[43mstart\u001B[49m\u001B[43m(\u001B[49m\u001B[43m)\u001B[49m\n\u001B[0;32m    122\u001B[0m \u001B[38;5;28;01mreturn\u001B[39;00m single\n",
      "File \u001B[1;32mF:\\anaconda\\anaconda3\\envs\\DeltaZero\\lib\\multiprocessing\\process.py:121\u001B[0m, in \u001B[0;36mBaseProcess.start\u001B[1;34m(self)\u001B[0m\n\u001B[0;32m    118\u001B[0m \u001B[38;5;28;01massert\u001B[39;00m \u001B[38;5;129;01mnot\u001B[39;00m _current_process\u001B[38;5;241m.\u001B[39m_config\u001B[38;5;241m.\u001B[39mget(\u001B[38;5;124m'\u001B[39m\u001B[38;5;124mdaemon\u001B[39m\u001B[38;5;124m'\u001B[39m), \\\n\u001B[0;32m    119\u001B[0m        \u001B[38;5;124m'\u001B[39m\u001B[38;5;124mdaemonic processes are not allowed to have children\u001B[39m\u001B[38;5;124m'\u001B[39m\n\u001B[0;32m    120\u001B[0m _cleanup()\n\u001B[1;32m--> 121\u001B[0m \u001B[38;5;28mself\u001B[39m\u001B[38;5;241m.\u001B[39m_popen \u001B[38;5;241m=\u001B[39m \u001B[38;5;28;43mself\u001B[39;49m\u001B[38;5;241;43m.\u001B[39;49m\u001B[43m_Popen\u001B[49m\u001B[43m(\u001B[49m\u001B[38;5;28;43mself\u001B[39;49m\u001B[43m)\u001B[49m\n\u001B[0;32m    122\u001B[0m \u001B[38;5;28mself\u001B[39m\u001B[38;5;241m.\u001B[39m_sentinel \u001B[38;5;241m=\u001B[39m \u001B[38;5;28mself\u001B[39m\u001B[38;5;241m.\u001B[39m_popen\u001B[38;5;241m.\u001B[39msentinel\n\u001B[0;32m    123\u001B[0m \u001B[38;5;66;03m# Avoid a refcycle if the target function holds an indirect\u001B[39;00m\n\u001B[0;32m    124\u001B[0m \u001B[38;5;66;03m# reference to the process object (see bpo-30775)\u001B[39;00m\n",
      "File \u001B[1;32mF:\\anaconda\\anaconda3\\envs\\DeltaZero\\lib\\multiprocessing\\context.py:224\u001B[0m, in \u001B[0;36mProcess._Popen\u001B[1;34m(process_obj)\u001B[0m\n\u001B[0;32m    222\u001B[0m \u001B[38;5;129m@staticmethod\u001B[39m\n\u001B[0;32m    223\u001B[0m \u001B[38;5;28;01mdef\u001B[39;00m \u001B[38;5;21m_Popen\u001B[39m(process_obj):\n\u001B[1;32m--> 224\u001B[0m     \u001B[38;5;28;01mreturn\u001B[39;00m \u001B[43m_default_context\u001B[49m\u001B[38;5;241;43m.\u001B[39;49m\u001B[43mget_context\u001B[49m\u001B[43m(\u001B[49m\u001B[43m)\u001B[49m\u001B[38;5;241;43m.\u001B[39;49m\u001B[43mProcess\u001B[49m\u001B[38;5;241;43m.\u001B[39;49m\u001B[43m_Popen\u001B[49m\u001B[43m(\u001B[49m\u001B[43mprocess_obj\u001B[49m\u001B[43m)\u001B[49m\n",
      "File \u001B[1;32mF:\\anaconda\\anaconda3\\envs\\DeltaZero\\lib\\multiprocessing\\context.py:336\u001B[0m, in \u001B[0;36mSpawnProcess._Popen\u001B[1;34m(process_obj)\u001B[0m\n\u001B[0;32m    333\u001B[0m \u001B[38;5;129m@staticmethod\u001B[39m\n\u001B[0;32m    334\u001B[0m \u001B[38;5;28;01mdef\u001B[39;00m \u001B[38;5;21m_Popen\u001B[39m(process_obj):\n\u001B[0;32m    335\u001B[0m     \u001B[38;5;28;01mfrom\u001B[39;00m \u001B[38;5;21;01m.\u001B[39;00m\u001B[38;5;21;01mpopen_spawn_win32\u001B[39;00m \u001B[38;5;28;01mimport\u001B[39;00m Popen\n\u001B[1;32m--> 336\u001B[0m     \u001B[38;5;28;01mreturn\u001B[39;00m \u001B[43mPopen\u001B[49m\u001B[43m(\u001B[49m\u001B[43mprocess_obj\u001B[49m\u001B[43m)\u001B[49m\n",
      "File \u001B[1;32mF:\\anaconda\\anaconda3\\envs\\DeltaZero\\lib\\multiprocessing\\popen_spawn_win32.py:93\u001B[0m, in \u001B[0;36mPopen.__init__\u001B[1;34m(self, process_obj)\u001B[0m\n\u001B[0;32m     91\u001B[0m \u001B[38;5;28;01mtry\u001B[39;00m:\n\u001B[0;32m     92\u001B[0m     reduction\u001B[38;5;241m.\u001B[39mdump(prep_data, to_child)\n\u001B[1;32m---> 93\u001B[0m     \u001B[43mreduction\u001B[49m\u001B[38;5;241;43m.\u001B[39;49m\u001B[43mdump\u001B[49m\u001B[43m(\u001B[49m\u001B[43mprocess_obj\u001B[49m\u001B[43m,\u001B[49m\u001B[43m \u001B[49m\u001B[43mto_child\u001B[49m\u001B[43m)\u001B[49m\n\u001B[0;32m     94\u001B[0m \u001B[38;5;28;01mfinally\u001B[39;00m:\n\u001B[0;32m     95\u001B[0m     set_spawning_popen(\u001B[38;5;28;01mNone\u001B[39;00m)\n",
      "File \u001B[1;32mF:\\anaconda\\anaconda3\\envs\\DeltaZero\\lib\\multiprocessing\\reduction.py:60\u001B[0m, in \u001B[0;36mdump\u001B[1;34m(obj, file, protocol)\u001B[0m\n\u001B[0;32m     58\u001B[0m \u001B[38;5;28;01mdef\u001B[39;00m \u001B[38;5;21mdump\u001B[39m(obj, file, protocol\u001B[38;5;241m=\u001B[39m\u001B[38;5;28;01mNone\u001B[39;00m):\n\u001B[0;32m     59\u001B[0m \u001B[38;5;250m    \u001B[39m\u001B[38;5;124;03m'''Replacement for pickle.dump() using ForkingPickler.'''\u001B[39;00m\n\u001B[1;32m---> 60\u001B[0m     \u001B[43mForkingPickler\u001B[49m\u001B[43m(\u001B[49m\u001B[43mfile\u001B[49m\u001B[43m,\u001B[49m\u001B[43m \u001B[49m\u001B[43mprotocol\u001B[49m\u001B[43m)\u001B[49m\u001B[38;5;241;43m.\u001B[39;49m\u001B[43mdump\u001B[49m\u001B[43m(\u001B[49m\u001B[43mobj\u001B[49m\u001B[43m)\u001B[49m\n",
      "\u001B[1;31mAttributeError\u001B[0m: Can't pickle local object 'task.<locals>._run_via_pool'"
     ]
    }
   ],
   "execution_count": 26
  },
  {
   "metadata": {
    "ExecuteTime": {
     "end_time": "2024-10-22T07:57:07.393177Z",
     "start_time": "2024-10-22T07:57:07.372536Z"
    }
   },
   "cell_type": "code",
   "source": [
    "df_data = pd.DataFrame()\n",
    "for path, _, file_list in os.walk('../data/tmp/itemcf'):\n",
    "    for file_name in file_list:\n",
    "        df_temp = pd.read_pickle(os.path.join(path, file_name))\n",
    "        df_data = df_data.append(df_temp)\n",
    "df_temp, df_data"
   ],
   "id": "748e0396285351ce",
   "outputs": [
    {
     "data": {
      "text/plain": [
       "(         user_id  click_article_id  click_timestamp  click_environment  \\\n",
       " 8              4             42567     1.508212e+12                4.0   \n",
       " 9              4             39894     1.508212e+12                4.0   \n",
       " 10             5            211442     1.508211e+12                4.0   \n",
       " 11             5            234481     1.508211e+12                4.0   \n",
       " 62            29            202355     1.508211e+12                4.0   \n",
       " ...          ...               ...              ...                ...   \n",
       " 1162538   200084                -1              NaN                NaN   \n",
       " 1162545   200077                -1              NaN                NaN   \n",
       " 1162555   200067                -1              NaN                NaN   \n",
       " 1162558   200064                -1              NaN                NaN   \n",
       " 1162620   200002                -1              NaN                NaN   \n",
       " \n",
       "          click_deviceGroup  click_os  click_country  click_region  \\\n",
       " 8                      1.0      12.0            1.0          16.0   \n",
       " 9                      1.0      12.0            1.0          16.0   \n",
       " 10                     4.0       2.0            1.0          25.0   \n",
       " 11                     4.0       2.0            1.0          25.0   \n",
       " 62                     3.0      20.0            1.0          25.0   \n",
       " ...                    ...       ...            ...           ...   \n",
       " 1162538                NaN       NaN            NaN           NaN   \n",
       " 1162545                NaN       NaN            NaN           NaN   \n",
       " 1162555                NaN       NaN            NaN           NaN   \n",
       " 1162558                NaN       NaN            NaN           NaN   \n",
       " 1162620                NaN       NaN            NaN           NaN   \n",
       " \n",
       "          click_referrer_type  \n",
       " 8                        1.0  \n",
       " 9                        1.0  \n",
       " 10                       2.0  \n",
       " 11                       2.0  \n",
       " 62                       2.0  \n",
       " ...                      ...  \n",
       " 1162538                  NaN  \n",
       " 1162545                  NaN  \n",
       " 1162555                  NaN  \n",
       " 1162558                  NaN  \n",
       " 1162620                  NaN  \n",
       " \n",
       " [72656 rows x 9 columns],\n",
       " Empty DataFrame\n",
       " Columns: []\n",
       " Index: [])"
      ]
     },
     "execution_count": 32,
     "metadata": {},
     "output_type": "execute_result"
    }
   ],
   "execution_count": 32
  },
  {
   "metadata": {
    "ExecuteTime": {
     "end_time": "2024-10-22T07:58:11.458823Z",
     "start_time": "2024-10-22T07:58:11.096116Z"
    }
   },
   "cell_type": "code",
   "source": [
    "# 必须加，对其进行排序\n",
    "df_data = df_data.sort_values(['user_id', 'sim_score'], ascending=[True, False]).reset_index(drop=True)\n",
    "\n",
    "# 计算召回指标"
   ],
   "id": "4d37c57a6876a83b",
   "outputs": [
    {
     "ename": "KeyError",
     "evalue": "'user_id'",
     "output_type": "error",
     "traceback": [
      "\u001B[1;31m---------------------------------------------------------------------------\u001B[0m",
      "\u001B[1;31mKeyError\u001B[0m                                  Traceback (most recent call last)",
      "Cell \u001B[1;32mIn[33], line 2\u001B[0m\n\u001B[0;32m      1\u001B[0m \u001B[38;5;66;03m# 必须加，对其进行排序\u001B[39;00m\n\u001B[1;32m----> 2\u001B[0m df_data \u001B[38;5;241m=\u001B[39m \u001B[43mdf_data\u001B[49m\u001B[38;5;241;43m.\u001B[39;49m\u001B[43msort_values\u001B[49m\u001B[43m(\u001B[49m\u001B[43m[\u001B[49m\u001B[38;5;124;43m'\u001B[39;49m\u001B[38;5;124;43muser_id\u001B[39;49m\u001B[38;5;124;43m'\u001B[39;49m\u001B[43m,\u001B[49m\u001B[43m \u001B[49m\u001B[38;5;124;43m'\u001B[39;49m\u001B[38;5;124;43msim_score\u001B[39;49m\u001B[38;5;124;43m'\u001B[39;49m\u001B[43m]\u001B[49m\u001B[43m,\u001B[49m\u001B[43m \u001B[49m\u001B[43mascending\u001B[49m\u001B[38;5;241;43m=\u001B[39;49m\u001B[43m[\u001B[49m\u001B[38;5;28;43;01mTrue\u001B[39;49;00m\u001B[43m,\u001B[49m\u001B[43m \u001B[49m\u001B[38;5;28;43;01mFalse\u001B[39;49;00m\u001B[43m]\u001B[49m\u001B[43m)\u001B[49m\u001B[38;5;241m.\u001B[39mreset_index(drop\u001B[38;5;241m=\u001B[39m\u001B[38;5;28;01mTrue\u001B[39;00m)\n\u001B[0;32m      4\u001B[0m \u001B[38;5;66;03m# 计算召回指标\u001B[39;00m\n",
      "File \u001B[1;32mF:\\anaconda\\anaconda3\\envs\\DeltaZero\\lib\\site-packages\\pandas\\core\\frame.py:6740\u001B[0m, in \u001B[0;36mDataFrame.sort_values\u001B[1;34m(self, by, axis, ascending, inplace, kind, na_position, ignore_index, key)\u001B[0m\n\u001B[0;32m   6735\u001B[0m     \u001B[38;5;28;01mraise\u001B[39;00m \u001B[38;5;167;01mValueError\u001B[39;00m(\n\u001B[0;32m   6736\u001B[0m         \u001B[38;5;124mf\u001B[39m\u001B[38;5;124m\"\u001B[39m\u001B[38;5;124mLength of ascending (\u001B[39m\u001B[38;5;132;01m{\u001B[39;00m\u001B[38;5;28mlen\u001B[39m(ascending)\u001B[38;5;132;01m}\u001B[39;00m\u001B[38;5;124m)\u001B[39m\u001B[38;5;124m\"\u001B[39m  \u001B[38;5;66;03m# type: ignore[arg-type]\u001B[39;00m\n\u001B[0;32m   6737\u001B[0m         \u001B[38;5;124mf\u001B[39m\u001B[38;5;124m\"\u001B[39m\u001B[38;5;124m != length of by (\u001B[39m\u001B[38;5;132;01m{\u001B[39;00m\u001B[38;5;28mlen\u001B[39m(by)\u001B[38;5;132;01m}\u001B[39;00m\u001B[38;5;124m)\u001B[39m\u001B[38;5;124m\"\u001B[39m\n\u001B[0;32m   6738\u001B[0m     )\n\u001B[0;32m   6739\u001B[0m \u001B[38;5;28;01mif\u001B[39;00m \u001B[38;5;28mlen\u001B[39m(by) \u001B[38;5;241m>\u001B[39m \u001B[38;5;241m1\u001B[39m:\n\u001B[1;32m-> 6740\u001B[0m     keys \u001B[38;5;241m=\u001B[39m [\u001B[38;5;28mself\u001B[39m\u001B[38;5;241m.\u001B[39m_get_label_or_level_values(x, axis\u001B[38;5;241m=\u001B[39maxis) \u001B[38;5;28;01mfor\u001B[39;00m x \u001B[38;5;129;01min\u001B[39;00m by]\n\u001B[0;32m   6742\u001B[0m     \u001B[38;5;66;03m# need to rewrap columns in Series to apply key function\u001B[39;00m\n\u001B[0;32m   6743\u001B[0m     \u001B[38;5;28;01mif\u001B[39;00m key \u001B[38;5;129;01mis\u001B[39;00m \u001B[38;5;129;01mnot\u001B[39;00m \u001B[38;5;28;01mNone\u001B[39;00m:\n\u001B[0;32m   6744\u001B[0m         \u001B[38;5;66;03m# error: List comprehension has incompatible type List[Series];\u001B[39;00m\n\u001B[0;32m   6745\u001B[0m         \u001B[38;5;66;03m# expected List[ndarray]\u001B[39;00m\n",
      "File \u001B[1;32mF:\\anaconda\\anaconda3\\envs\\DeltaZero\\lib\\site-packages\\pandas\\core\\frame.py:6740\u001B[0m, in \u001B[0;36m<listcomp>\u001B[1;34m(.0)\u001B[0m\n\u001B[0;32m   6735\u001B[0m     \u001B[38;5;28;01mraise\u001B[39;00m \u001B[38;5;167;01mValueError\u001B[39;00m(\n\u001B[0;32m   6736\u001B[0m         \u001B[38;5;124mf\u001B[39m\u001B[38;5;124m\"\u001B[39m\u001B[38;5;124mLength of ascending (\u001B[39m\u001B[38;5;132;01m{\u001B[39;00m\u001B[38;5;28mlen\u001B[39m(ascending)\u001B[38;5;132;01m}\u001B[39;00m\u001B[38;5;124m)\u001B[39m\u001B[38;5;124m\"\u001B[39m  \u001B[38;5;66;03m# type: ignore[arg-type]\u001B[39;00m\n\u001B[0;32m   6737\u001B[0m         \u001B[38;5;124mf\u001B[39m\u001B[38;5;124m\"\u001B[39m\u001B[38;5;124m != length of by (\u001B[39m\u001B[38;5;132;01m{\u001B[39;00m\u001B[38;5;28mlen\u001B[39m(by)\u001B[38;5;132;01m}\u001B[39;00m\u001B[38;5;124m)\u001B[39m\u001B[38;5;124m\"\u001B[39m\n\u001B[0;32m   6738\u001B[0m     )\n\u001B[0;32m   6739\u001B[0m \u001B[38;5;28;01mif\u001B[39;00m \u001B[38;5;28mlen\u001B[39m(by) \u001B[38;5;241m>\u001B[39m \u001B[38;5;241m1\u001B[39m:\n\u001B[1;32m-> 6740\u001B[0m     keys \u001B[38;5;241m=\u001B[39m [\u001B[38;5;28;43mself\u001B[39;49m\u001B[38;5;241;43m.\u001B[39;49m\u001B[43m_get_label_or_level_values\u001B[49m\u001B[43m(\u001B[49m\u001B[43mx\u001B[49m\u001B[43m,\u001B[49m\u001B[43m \u001B[49m\u001B[43maxis\u001B[49m\u001B[38;5;241;43m=\u001B[39;49m\u001B[43maxis\u001B[49m\u001B[43m)\u001B[49m \u001B[38;5;28;01mfor\u001B[39;00m x \u001B[38;5;129;01min\u001B[39;00m by]\n\u001B[0;32m   6742\u001B[0m     \u001B[38;5;66;03m# need to rewrap columns in Series to apply key function\u001B[39;00m\n\u001B[0;32m   6743\u001B[0m     \u001B[38;5;28;01mif\u001B[39;00m key \u001B[38;5;129;01mis\u001B[39;00m \u001B[38;5;129;01mnot\u001B[39;00m \u001B[38;5;28;01mNone\u001B[39;00m:\n\u001B[0;32m   6744\u001B[0m         \u001B[38;5;66;03m# error: List comprehension has incompatible type List[Series];\u001B[39;00m\n\u001B[0;32m   6745\u001B[0m         \u001B[38;5;66;03m# expected List[ndarray]\u001B[39;00m\n",
      "File \u001B[1;32mF:\\anaconda\\anaconda3\\envs\\DeltaZero\\lib\\site-packages\\pandas\\core\\generic.py:1778\u001B[0m, in \u001B[0;36mNDFrame._get_label_or_level_values\u001B[1;34m(self, key, axis)\u001B[0m\n\u001B[0;32m   1776\u001B[0m     values \u001B[38;5;241m=\u001B[39m \u001B[38;5;28mself\u001B[39m\u001B[38;5;241m.\u001B[39maxes[axis]\u001B[38;5;241m.\u001B[39mget_level_values(key)\u001B[38;5;241m.\u001B[39m_values\n\u001B[0;32m   1777\u001B[0m \u001B[38;5;28;01melse\u001B[39;00m:\n\u001B[1;32m-> 1778\u001B[0m     \u001B[38;5;28;01mraise\u001B[39;00m \u001B[38;5;167;01mKeyError\u001B[39;00m(key)\n\u001B[0;32m   1780\u001B[0m \u001B[38;5;66;03m# Check for duplicates\u001B[39;00m\n\u001B[0;32m   1781\u001B[0m \u001B[38;5;28;01mif\u001B[39;00m values\u001B[38;5;241m.\u001B[39mndim \u001B[38;5;241m>\u001B[39m \u001B[38;5;241m1\u001B[39m:\n",
      "\u001B[1;31mKeyError\u001B[0m: 'user_id'"
     ]
    }
   ],
   "execution_count": 33
  }
 ],
 "metadata": {
  "kernelspec": {
   "display_name": "Python 3",
   "language": "python",
   "name": "python3"
  },
  "language_info": {
   "codemirror_mode": {
    "name": "ipython",
    "version": 2
   },
   "file_extension": ".py",
   "mimetype": "text/x-python",
   "name": "python",
   "nbconvert_exporter": "python",
   "pygments_lexer": "ipython2",
   "version": "2.7.6"
  }
 },
 "nbformat": 4,
 "nbformat_minor": 5
}
